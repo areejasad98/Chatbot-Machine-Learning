{
 "cells": [
  {
   "cell_type": "code",
   "execution_count": null,
   "metadata": {},
   "outputs": [
    {
     "name": "stdout",
     "output_type": "stream",
     "text": [
      "Loading std-startup.xml...done (0.06 seconds)\n",
      "Loading basic_chat.aiml...done (0.01 seconds)\n",
      "Loading custom.aiml...done (0.00 seconds)\n",
      "Enter your message >> what is your name\n",
      "My name is Hazel\n",
      "Enter your message >> how are you\n",
      "i am fine what about you.\n"
     ]
    }
   ],
   "source": [
    "import aiml\n",
    "\n",
    "# Create the kernel and learn AIML files\n",
    "kernel = aiml.Kernel()\n",
    "kernel.learn(\"std-startup.xml\")\n",
    "kernel.respond(\"load aiml b\")\n",
    "\n",
    "# Press CTRL-C to break this loop\n",
    "while True:\n",
    "    print (kernel.respond(input(\"Enter your message >> \")))"
   ]
  },
  {
   "cell_type": "code",
   "execution_count": null,
   "metadata": {},
   "outputs": [],
   "source": [
    "<aiml>\n",
    "<category>\n",
    "<pattern> What is your name </pattern>\n",
    "<template> my name is hazel </template>\n",
    "</category>\n",
    "\n",
    "<category> \n",
    "<pattern> what is aiml? </pattern> \n",
    "<template> aiml is the attifical intelligence markup lang </template>\n",
    "</category>\n",
    "\n",
    "\n",
    "<category> \n",
    "<pattern> hey * </pattern> \n",
    "<template> i am not <star/> </template>\n",
    "</category>\n",
    "\n",
    "<category> \n",
    "<pattern> TELL ME MORE  </pattern>\n",
    "<that> My name is hazel </that>\n",
    "<template> well there is not much to say </template>\n",
    "</category>\n",
    "\n",
    "<category> \n",
    "<pattern> Pick a nnumber </pattern>\n",
    "<template>\n",
    "    <random> \n",
    "        <li> 1 </li>\n",
    "        <li> 2 </li>\n",
    "        <li> 3 </li>\n",
    "        <li> 4 </li>\n",
    "</template>\n",
    "</category>\n",
    "\n",
    "<category> \n",
    "<pattern> TELL ME about *  </pattern>\n",
    "    <template> \n",
    "        <srai> what is <star/>\n",
    "        </srai>\n",
    "    </template>\n",
    "</category>\n",
    "\n",
    "</aiml>"
   ]
  },
  {
   "cell_type": "code",
   "execution_count": null,
   "metadata": {},
   "outputs": [],
   "source": []
  }
 ],
 "metadata": {
  "kernelspec": {
   "display_name": "Python 3",
   "language": "python",
   "name": "python3"
  },
  "language_info": {
   "codemirror_mode": {
    "name": "ipython",
    "version": 3
   },
   "file_extension": ".py",
   "mimetype": "text/x-python",
   "name": "python",
   "nbconvert_exporter": "python",
   "pygments_lexer": "ipython3",
   "version": "3.7.4"
  }
 },
 "nbformat": 4,
 "nbformat_minor": 2
}
